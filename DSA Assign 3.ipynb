{
 "cells": [
  {
   "cell_type": "markdown",
   "id": "5a540d35",
   "metadata": {},
   "source": [
    "##QUESTION 1"
   ]
  },
  {
   "cell_type": "code",
   "execution_count": 1,
   "id": "28054f1e",
   "metadata": {},
   "outputs": [
    {
     "name": "stdout",
     "output_type": "stream",
     "text": [
      "Root Value: A\n",
      "Left Child: B\n",
      "Right Child: C\n"
     ]
    }
   ],
   "source": [
    "class BinaryTree:\n",
    "    def __init__(self, root):\n",
    "        self.key = root\n",
    "        self.left_child = None\n",
    "        self.right_child = None\n",
    "\n",
    "    def insert_left(self, new_node):\n",
    "        if self.left_child is None:\n",
    "            self.left_child = BinaryTree(new_node)\n",
    "        else:\n",
    "            new_tree = BinaryTree(new_node)\n",
    "            new_tree.left_child = self.left_child\n",
    "            self.left_child = new_tree\n",
    "\n",
    "    def insert_right(self, new_node):\n",
    "        if self.right_child is None:\n",
    "            self.right_child = BinaryTree(new_node)\n",
    "        else:\n",
    "            new_tree = BinaryTree(new_node)\n",
    "            new_tree.right_child = self.right_child\n",
    "            self.right_child = new_tree\n",
    "\n",
    "    def get_root_value(self):\n",
    "        return self.key\n",
    "\n",
    "    def set_root_value(self, new_value):\n",
    "        self.key = new_value\n",
    "\n",
    "    def get_left_child(self):\n",
    "        return self.left_child\n",
    "\n",
    "    def get_right_child(self):\n",
    "        return self.right_child\n",
    "\n",
    "# Example:\n",
    "if __name__ == \"__main__\":\n",
    "    \n",
    "    tree = BinaryTree('A')\n",
    "    tree.insert_left('B')\n",
    "    tree.insert_right('C')\n",
    "    tree.get_left_child().insert_left('D')\n",
    "    tree.get_left_child().insert_right('E')\n",
    "    tree.get_right_child().insert_left('F')\n",
    "    tree.get_right_child().insert_right('G')\n",
    "\n",
    "    print(\"Root Value:\", tree.get_root_value())\n",
    "    print(\"Left Child:\", tree.get_left_child().get_root_value())\n",
    "    print(\"Right Child:\", tree.get_right_child().get_root_value())\n"
   ]
  },
  {
   "cell_type": "markdown",
   "id": "8020f12e",
   "metadata": {},
   "source": [
    "##QUESTION 2"
   ]
  },
  {
   "cell_type": "code",
   "execution_count": 3,
   "id": "2e6e5d65",
   "metadata": {},
   "outputs": [
    {
     "name": "stdout",
     "output_type": "stream",
     "text": [
      "Height of the tree: 3\n"
     ]
    }
   ],
   "source": [
    "class Node:\n",
    "    def __init__(self, key):\n",
    "        self.left = None\n",
    "        self.right = None\n",
    "        self.value = key\n",
    "\n",
    "def find_tree_height(root):\n",
    "    if root is None:\n",
    "        return 0\n",
    "\n",
    "    left_height = find_tree_height(root.left)\n",
    "    right_height = find_tree_height(root.right)\n",
    "\n",
    "    return max(left_height, right_height) + 1\n",
    "\n",
    "# Example:\n",
    "if __name__ == \"__main__\":\n",
    "    root = Node(1)\n",
    "    root.left = Node(2)\n",
    "    root.right = Node(3)\n",
    "    root.left.left = Node(4)\n",
    "    root.left.right = Node(5)\n",
    "    root.right.left = Node(6)\n",
    "    root.right.right = Node(7)\n",
    "\n",
    "    height = find_tree_height(root)\n",
    "    print(\"Height of the tree:\", height)\n"
   ]
  },
  {
   "cell_type": "markdown",
   "id": "23345283",
   "metadata": {},
   "source": [
    "##QUESTION 3"
   ]
  },
  {
   "cell_type": "code",
   "execution_count": 4,
   "id": "556ecd06",
   "metadata": {},
   "outputs": [
    {
     "name": "stdout",
     "output_type": "stream",
     "text": [
      "Preorder Traversal: [50, 30, 20, 40, 70, 60, 80]\n",
      "Inorder Traversal: [20, 30, 40, 50, 60, 70, 80]\n",
      "Postorder Traversal: [20, 40, 30, 60, 80, 70, 50]\n"
     ]
    }
   ],
   "source": [
    "class Node:\n",
    "    def __init__(self, key):\n",
    "        self.left = None\n",
    "        self.right = None\n",
    "        self.value = key\n",
    "\n",
    "class BinaryTree:\n",
    "    def __init__(self, root):\n",
    "        self.root = Node(root)\n",
    "\n",
    "    def insert(self, key):\n",
    "        self._insert_recursively(self.root, key)\n",
    "\n",
    "    def _insert_recursively(self, current_node, key):\n",
    "        if key < current_node.value:\n",
    "            if current_node.left is None:\n",
    "                current_node.left = Node(key)\n",
    "            else:\n",
    "                self._insert_recursively(current_node.left, key)\n",
    "        else:\n",
    "            if current_node.right is None:\n",
    "                current_node.right = Node(key)\n",
    "            else:\n",
    "                self._insert_recursively(current_node.right, key)\n",
    "\n",
    "    def preorder_traversal(self):\n",
    "        result = []\n",
    "        self._preorder_traversal_recursively(self.root, result)\n",
    "        return result\n",
    "\n",
    "    def _preorder_traversal_recursively(self, current_node, result):\n",
    "        if current_node:\n",
    "            result.append(current_node.value)\n",
    "            self._preorder_traversal_recursively(current_node.left, result)\n",
    "            self._preorder_traversal_recursively(current_node.right, result)\n",
    "\n",
    "    def inorder_traversal(self):\n",
    "        result = []\n",
    "        self._inorder_traversal_recursively(self.root, result)\n",
    "        return result\n",
    "\n",
    "    def _inorder_traversal_recursively(self, current_node, result):\n",
    "        if current_node:\n",
    "            self._inorder_traversal_recursively(current_node.left, result)\n",
    "            result.append(current_node.value)\n",
    "            self._inorder_traversal_recursively(current_node.right, result)\n",
    "\n",
    "    def postorder_traversal(self):\n",
    "        result = []\n",
    "        self._postorder_traversal_recursively(self.root, result)\n",
    "        return result\n",
    "\n",
    "    def _postorder_traversal_recursively(self, current_node, result):\n",
    "        if current_node:\n",
    "            self._postorder_traversal_recursively(current_node.left, result)\n",
    "            self._postorder_traversal_recursively(current_node.right, result)\n",
    "            result.append(current_node.value)\n",
    "\n",
    "#Example:\n",
    "if __name__ == \"__main__\":\n",
    "    tree = BinaryTree(50)\n",
    "    tree.insert(30)\n",
    "    tree.insert(70)\n",
    "    tree.insert(20)\n",
    "    tree.insert(40)\n",
    "    tree.insert(60)\n",
    "    tree.insert(80)\n",
    "\n",
    "    print(\"Preorder Traversal:\", tree.preorder_traversal())\n",
    "    print(\"Inorder Traversal:\", tree.inorder_traversal())\n",
    "    print(\"Postorder Traversal:\", tree.postorder_traversal())\n"
   ]
  },
  {
   "cell_type": "markdown",
   "id": "2333c4ff",
   "metadata": {},
   "source": [
    "##QUESTION 4"
   ]
  },
  {
   "cell_type": "code",
   "execution_count": 5,
   "id": "cdaad748",
   "metadata": {},
   "outputs": [
    {
     "name": "stdout",
     "output_type": "stream",
     "text": [
      "Leaves of the tree:\n",
      "25\n",
      "30\n",
      "35\n",
      "40\n"
     ]
    }
   ],
   "source": [
    "class Node:\n",
    "    def __init__(self, key):\n",
    "        self.left = None\n",
    "        self.right = None\n",
    "        self.value = key\n",
    "\n",
    "def print_leaves(node):\n",
    "    if node is not None:\n",
    "        if node.left is None and node.right is None:\n",
    "            print(node.value)\n",
    "        else:\n",
    "            print_leaves(node.left)\n",
    "            print_leaves(node.right)\n",
    "\n",
    "# EXAMPLE:\n",
    "if __name__ == \"__main__\":\n",
    "    \n",
    "    root = Node(10)\n",
    "    root.left = Node(15)\n",
    "    root.right = Node(20)\n",
    "    root.left.left = Node(25)\n",
    "    root.left.right = Node(30)\n",
    "    root.right.left = Node(35)\n",
    "    root.right.right = Node(40)\n",
    "\n",
    "    print(\"Leaves of the tree:\")\n",
    "    print_leaves(root)"
   ]
  },
  {
   "cell_type": "markdown",
   "id": "23bdacb4",
   "metadata": {},
   "source": [
    "##QUESTION 5"
   ]
  },
  {
   "cell_type": "code",
   "execution_count": 6,
   "id": "4fdb73c4",
   "metadata": {},
   "outputs": [
    {
     "name": "stdout",
     "output_type": "stream",
     "text": [
      "BFS: [10, 20, 30, 40, 50, 60, 70]\n",
      "DFS Preorder: [10, 20, 40, 50, 30, 60, 70]\n",
      "DFS Inorder: [40, 20, 50, 10, 60, 30, 70]\n",
      "DFS Postorder: [40, 50, 20, 60, 70, 30, 10]\n"
     ]
    }
   ],
   "source": [
    "class Node:\n",
    "    def __init__(self, key):\n",
    "        self.left = None\n",
    "        self.right = None\n",
    "        self.value = key\n",
    "\n",
    "def bfs(root):\n",
    "    if root is None:\n",
    "        return []\n",
    "\n",
    "    result = []\n",
    "    queue = [root]\n",
    "\n",
    "    while queue:\n",
    "        current_node = queue.pop(0)\n",
    "        result.append(current_node.value)\n",
    "\n",
    "        if current_node.left:\n",
    "            queue.append(current_node.left)\n",
    "        if current_node.right:\n",
    "            queue.append(current_node.right)\n",
    "\n",
    "    return result\n",
    "\n",
    "def dfs_preorder(root):\n",
    "    if root is None:\n",
    "        return []\n",
    "\n",
    "    result = []\n",
    "    stack = [root]\n",
    "\n",
    "    while stack:\n",
    "        current_node = stack.pop()\n",
    "        result.append(current_node.value)\n",
    "\n",
    "        if current_node.right:\n",
    "            stack.append(current_node.right)\n",
    "        if current_node.left:\n",
    "            stack.append(current_node.left)\n",
    "\n",
    "    return result\n",
    "\n",
    "def dfs_inorder(root):\n",
    "    if root is None:\n",
    "        return []\n",
    "\n",
    "    result = []\n",
    "    stack = []\n",
    "    current_node = root\n",
    "\n",
    "    while stack or current_node:\n",
    "        if current_node:\n",
    "            stack.append(current_node)\n",
    "            current_node = current_node.left\n",
    "        else:\n",
    "            current_node = stack.pop()\n",
    "            result.append(current_node.value)\n",
    "            current_node = current_node.right\n",
    "\n",
    "    return result\n",
    "\n",
    "def dfs_postorder(root):\n",
    "    if root is None:\n",
    "        return []\n",
    "\n",
    "    result = []\n",
    "    stack = [root]\n",
    "    visited = set()\n",
    "\n",
    "    while stack:\n",
    "        current_node = stack[-1]\n",
    "\n",
    "        if current_node.left and current_node.left not in visited:\n",
    "            stack.append(current_node.left)\n",
    "        elif current_node.right and current_node.right not in visited:\n",
    "            stack.append(current_node.right)\n",
    "        else:\n",
    "            visited.add(stack.pop())\n",
    "            result.append(current_node.value)\n",
    "\n",
    "    return result\n",
    "\n",
    "# EXAMPLE:\n",
    "if __name__ == \"__main__\":\n",
    "    \n",
    "    root = Node(10)\n",
    "    root.left = Node(20)\n",
    "    root.right = Node(30)\n",
    "    root.left.left = Node(40)\n",
    "    root.left.right = Node(50)\n",
    "    root.right.left = Node(60)\n",
    "    root.right.right = Node(70)\n",
    "\n",
    "    print(\"BFS:\", bfs(root))\n",
    "    print(\"DFS Preorder:\", dfs_preorder(root))\n",
    "    print(\"DFS Inorder:\", dfs_inorder(root))\n",
    "    print(\"DFS Postorder:\", dfs_postorder(root))\n"
   ]
  },
  {
   "cell_type": "markdown",
   "id": "3b0d93bc",
   "metadata": {},
   "source": [
    "##QUESTION 6"
   ]
  },
  {
   "cell_type": "code",
   "execution_count": 7,
   "id": "65091d7e",
   "metadata": {},
   "outputs": [
    {
     "name": "stdout",
     "output_type": "stream",
     "text": [
      "Sum of left leaves: 10\n"
     ]
    }
   ],
   "source": [
    "class Node:\n",
    "    def __init__(self, key):\n",
    "        self.left = None\n",
    "        self.right = None\n",
    "        self.value = key\n",
    "\n",
    "def sum_of_left_leaves(root):\n",
    "    if root is None:\n",
    "        return 0\n",
    "\n",
    "    left_leaf_sum = 0\n",
    "\n",
    "    if root.left and root.left.left is None and root.left.right is None:\n",
    "        left_leaf_sum += root.left.value\n",
    "\n",
    "    left_leaf_sum += sum_of_left_leaves(root.left)\n",
    "    left_leaf_sum += sum_of_left_leaves(root.right)\n",
    "\n",
    "    return left_leaf_sum\n",
    "\n",
    "# EXAMPLE:\n",
    "if __name__ == \"__main__\":\n",
    "    \n",
    "    root = Node(1)\n",
    "    root.left = Node(2)\n",
    "    root.right = Node(3)\n",
    "    root.left.left = Node(4)\n",
    "    root.left.right = Node(5)\n",
    "    root.right.left = Node(6)\n",
    "    root.right.right = Node(7)\n",
    "\n",
    "    left_leaves_sum = sum_of_left_leaves(root)\n",
    "    print(\"Sum of left leaves:\", left_leaves_sum)\n"
   ]
  },
  {
   "cell_type": "markdown",
   "id": "97e6a6f0",
   "metadata": {},
   "source": [
    "##QUESTION 7"
   ]
  },
  {
   "cell_type": "code",
   "execution_count": 8,
   "id": "5cf1e8d8",
   "metadata": {},
   "outputs": [
    {
     "name": "stdout",
     "output_type": "stream",
     "text": [
      "Sum of all nodes in the perfect binary tree: 120\n"
     ]
    }
   ],
   "source": [
    "def sum_of_perfect_binary_tree(height):\n",
    "    if height < 0:\n",
    "        return 0\n",
    "    \n",
    "    num_nodes = 2**(height + 1) - 1\n",
    "    \n",
    "    \n",
    "    total_sum = (num_nodes * (num_nodes + 1)) // 2\n",
    "    \n",
    "    return total_sum\n",
    "\n",
    "# EXAMPLE:\n",
    "if __name__ == \"__main__\":\n",
    "    height = 3  \n",
    "    total_sum = sum_of_perfect_binary_tree(height)\n",
    "    print(\"Sum of all nodes in the perfect binary tree:\", total_sum)\n"
   ]
  },
  {
   "cell_type": "markdown",
   "id": "b834d917",
   "metadata": {},
   "source": [
    "##QUESTION 8"
   ]
  },
  {
   "cell_type": "code",
   "execution_count": 9,
   "id": "1bbca300",
   "metadata": {},
   "outputs": [
    {
     "name": "stdout",
     "output_type": "stream",
     "text": [
      "Number of subtrees with sum 22 is 2\n"
     ]
    }
   ],
   "source": [
    "class Node:\n",
    "    def __init__(self, key):\n",
    "        self.left = None\n",
    "        self.right = None\n",
    "        self.value = key\n",
    "\n",
    "def count_subtrees_with_sum(root, x):\n",
    "    if root is None:\n",
    "        return 0\n",
    "\n",
    "    def is_subtree_with_sum(node, target_sum):\n",
    "        if node is None:\n",
    "            return False\n",
    "        if node.left is None and node.right is None and node.value == target_sum:\n",
    "            return True\n",
    "        left_has_sum = is_subtree_with_sum(node.left, target_sum - node.value)\n",
    "        right_has_sum = is_subtree_with_sum(node.right, target_sum - node.value)\n",
    "        return left_has_sum or right_has_sum\n",
    "\n",
    "    count = 0\n",
    "\n",
    "    def dfs(node):\n",
    "        nonlocal count\n",
    "        if node is None:\n",
    "            return\n",
    "        if is_subtree_with_sum(node, x):\n",
    "            count += 1\n",
    "        dfs(node.left)\n",
    "        dfs(node.right)\n",
    "\n",
    "    dfs(root)\n",
    "    return count\n",
    "\n",
    "# EXAMPLE:\n",
    "if __name__ == \"__main__\":\n",
    "    \n",
    "    root = Node(5)\n",
    "    root.left = Node(4)\n",
    "    root.right = Node(8)\n",
    "    root.left.left = Node(11)\n",
    "    root.left.left.left = Node(7)\n",
    "    root.left.left.right = Node(2)\n",
    "    root.right.left = Node(13)\n",
    "    root.right.right = Node(4)\n",
    "    root.right.right.right = Node(1)\n",
    "\n",
    "    target_sum = 22\n",
    "\n",
    "    count = count_subtrees_with_sum(root, target_sum)\n",
    "    print(\"Number of subtrees with sum\", target_sum, \"is\", count)\n"
   ]
  },
  {
   "cell_type": "markdown",
   "id": "6c770898",
   "metadata": {},
   "source": [
    "##QUESTION 9"
   ]
  },
  {
   "cell_type": "code",
   "execution_count": 10,
   "id": "25d0e213",
   "metadata": {},
   "outputs": [
    {
     "name": "stdout",
     "output_type": "stream",
     "text": [
      "Maximum level sum in the binary tree: 17\n"
     ]
    }
   ],
   "source": [
    "class Node:\n",
    "    def __init__(self, key):\n",
    "        self.left = None\n",
    "        self.right = None\n",
    "        self.value = key\n",
    "\n",
    "def max_level_sum(root):\n",
    "    if root is None:\n",
    "        return 0\n",
    "\n",
    "    max_sum = root.value  \n",
    "    current_level = [root]\n",
    "\n",
    "    while current_level:\n",
    "        level_sum = sum(node.value for node in current_level)\n",
    "        max_sum = max(max_sum, level_sum)\n",
    "\n",
    "        next_level = []\n",
    "        for node in current_level:\n",
    "            if node.left:\n",
    "                next_level.append(node.left)\n",
    "            if node.right:\n",
    "                next_level.append(node.right)\n",
    "\n",
    "        current_level = next_level\n",
    "\n",
    "    return max_sum\n",
    "\n",
    "# EXAMPLE:\n",
    "if __name__ == \"__main__\":\n",
    "    \n",
    "    root = Node(1)\n",
    "    root.left = Node(2)\n",
    "    root.right = Node(3)\n",
    "    root.left.left = Node(4)\n",
    "    root.left.right = Node(5)\n",
    "    root.right.right = Node(8)\n",
    "    root.right.right.left = Node(6)\n",
    "    root.right.right.right = Node(7)\n",
    "\n",
    "    max_sum = max_level_sum(root)\n",
    "    print(\"Maximum level sum in the binary tree:\", max_sum)\n"
   ]
  },
  {
   "cell_type": "markdown",
   "id": "c2acaae7",
   "metadata": {},
   "source": [
    "##QUESTION 10"
   ]
  },
  {
   "cell_type": "code",
   "execution_count": 11,
   "id": "e4109805",
   "metadata": {},
   "outputs": [
    {
     "name": "stdout",
     "output_type": "stream",
     "text": [
      "Nodes at odd levels:\n",
      "1\n",
      "4\n",
      "5\n",
      "6\n",
      "7\n"
     ]
    }
   ],
   "source": [
    "class Node:\n",
    "    def __init__(self, key):\n",
    "        self.left = None\n",
    "        self.right = None\n",
    "        self.value = key\n",
    "\n",
    "def print_odd_level_nodes(root):\n",
    "    if root is None:\n",
    "        return\n",
    "\n",
    "    def dfs(node, level):\n",
    "        if node is None:\n",
    "            return\n",
    "\n",
    "        \n",
    "        if level % 2 == 1:\n",
    "            print(node.value)\n",
    "\n",
    "        \n",
    "        dfs(node.left, level + 1)\n",
    "        dfs(node.right, level + 1)\n",
    "\n",
    "    dfs(root, 1)\n",
    "\n",
    "# EXAMPLE:\n",
    "if __name__ == \"__main__\":\n",
    "    \n",
    "    root = Node(1)\n",
    "    root.left = Node(2)\n",
    "    root.right = Node(3)\n",
    "    root.left.left = Node(4)\n",
    "    root.left.right = Node(5)\n",
    "    root.right.left = Node(6)\n",
    "    root.right.right = Node(7)\n",
    "    root.left.left.left = Node(8)\n",
    "    root.left.left.right = Node(9)\n",
    "\n",
    "    print(\"Nodes at odd levels:\")\n",
    "    print_odd_level_nodes(root)\n"
   ]
  },
  {
   "cell_type": "code",
   "execution_count": null,
   "id": "0f6f1eef",
   "metadata": {},
   "outputs": [],
   "source": []
  }
 ],
 "metadata": {
  "kernelspec": {
   "display_name": "Python 3 (ipykernel)",
   "language": "python",
   "name": "python3"
  },
  "language_info": {
   "codemirror_mode": {
    "name": "ipython",
    "version": 3
   },
   "file_extension": ".py",
   "mimetype": "text/x-python",
   "name": "python",
   "nbconvert_exporter": "python",
   "pygments_lexer": "ipython3",
   "version": "3.11.3"
  }
 },
 "nbformat": 4,
 "nbformat_minor": 5
}
